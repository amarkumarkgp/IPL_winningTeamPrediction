{
 "cells": [
  {
   "cell_type": "code",
   "execution_count": 1,
   "metadata": {},
   "outputs": [],
   "source": [
    "# importing necessary libraries\n",
    "import pandas as pd\n",
    "import numpy as np\n",
    "import matplotlib.pyplot as plt\n",
    "from matplotlib import rcParams\n",
    "%matplotlib inline\n",
    "import seaborn as sns\n",
    "\n",
    "from sklearn.preprocessing import StandardScaler\n",
    "from sklearn.model_selection import train_test_split\n",
    "from sklearn.ensemble import RandomForestClassifier\n",
    "from sklearn.model_selection import RandomizedSearchCV\n",
    "\n",
    "import eli5\n",
    "from eli5.sklearn import PermutationImportance\n",
    "\n",
    "rcParams['figure.figsize'] = 6, 6"
   ]
  },
  {
   "cell_type": "code",
   "execution_count": 2,
   "metadata": {},
   "outputs": [
    {
     "name": "stdout",
     "output_type": "stream",
     "text": [
      "rw_train shape:  (252, 30)  rw_test shape:  (76, 30)\n"
     ]
    }
   ],
   "source": [
    "# importing the datasets files\n",
    "rw_train  = pd.read_csv(\"train.csv\")\n",
    "rw_test   = pd.read_csv(\"test.csv\")\n",
    "\n",
    "rw_data   = pd.concat([rw_train, rw_test], axis =0, sort= True)\n",
    "print(\"rw_train shape: \", rw_train.shape, \" rw_test shape: \", rw_test.shape)"
   ]
  },
  {
   "cell_type": "code",
   "execution_count": 3,
   "metadata": {},
   "outputs": [
    {
     "data": {
      "text/html": [
       "<div>\n",
       "<style scoped>\n",
       "    .dataframe tbody tr th:only-of-type {\n",
       "        vertical-align: middle;\n",
       "    }\n",
       "\n",
       "    .dataframe tbody tr th {\n",
       "        vertical-align: top;\n",
       "    }\n",
       "\n",
       "    .dataframe thead th {\n",
       "        text-align: right;\n",
       "    }\n",
       "</style>\n",
       "<table border=\"1\" class=\"dataframe\">\n",
       "  <thead>\n",
       "    <tr style=\"text-align: right;\">\n",
       "      <th></th>\n",
       "      <th>Game ID</th>\n",
       "      <th>Team 1</th>\n",
       "      <th>Team 2</th>\n",
       "      <th>City</th>\n",
       "      <th>DayOfWeek</th>\n",
       "      <th>DateOfGame</th>\n",
       "      <th>TimeOfGame</th>\n",
       "      <th>AvgWindSpeed</th>\n",
       "      <th>AvgHumidity</th>\n",
       "      <th>Inn 1 Team 1 NOP R&gt;25,SR&gt;125</th>\n",
       "      <th>...</th>\n",
       "      <th>Inn 2 Team 2 NOP R&lt;25, SR&gt;125</th>\n",
       "      <th>Inn 2 Team 2 Total 4s</th>\n",
       "      <th>Inn 2 Team 2 Total 6s</th>\n",
       "      <th>Inn 2 Team 2 Max Strike Rate_ALLBatsmen</th>\n",
       "      <th>Inn 2 Team 1 NoP fast bowlers</th>\n",
       "      <th>Inn 2 Team 1 NoP Spinners</th>\n",
       "      <th>Inn 2 Team 1 wickets taken_catches_runout</th>\n",
       "      <th>Inn2 Team 1 wickets taken_ bowled _lbw_caught by keeper_stumping</th>\n",
       "      <th>Inn 2 Team 1 Extras conceded in_wides_No Balls</th>\n",
       "      <th>Winner (team 1=1, team 2=0)</th>\n",
       "    </tr>\n",
       "  </thead>\n",
       "  <tbody>\n",
       "    <tr>\n",
       "      <th>0</th>\n",
       "      <td>1</td>\n",
       "      <td>Koramangala Traffic Jammers</td>\n",
       "      <td>Whitefield Water Loggers</td>\n",
       "      <td>Whitefield</td>\n",
       "      <td>1</td>\n",
       "      <td>01-01-2012</td>\n",
       "      <td>20:00:00</td>\n",
       "      <td>6</td>\n",
       "      <td>0.49</td>\n",
       "      <td>1</td>\n",
       "      <td>...</td>\n",
       "      <td>0</td>\n",
       "      <td>3</td>\n",
       "      <td>3</td>\n",
       "      <td>120.00</td>\n",
       "      <td>5</td>\n",
       "      <td>0</td>\n",
       "      <td>6</td>\n",
       "      <td>4</td>\n",
       "      <td>11</td>\n",
       "      <td>1</td>\n",
       "    </tr>\n",
       "    <tr>\n",
       "      <th>1</th>\n",
       "      <td>2</td>\n",
       "      <td>Electronic City Power Savers</td>\n",
       "      <td>Silkboard Slow Movers</td>\n",
       "      <td>Silkboard</td>\n",
       "      <td>2</td>\n",
       "      <td>01-02-2012</td>\n",
       "      <td>17:00:00</td>\n",
       "      <td>7</td>\n",
       "      <td>0.44</td>\n",
       "      <td>3</td>\n",
       "      <td>...</td>\n",
       "      <td>2</td>\n",
       "      <td>18</td>\n",
       "      <td>9</td>\n",
       "      <td>215.15</td>\n",
       "      <td>4</td>\n",
       "      <td>1</td>\n",
       "      <td>4</td>\n",
       "      <td>0</td>\n",
       "      <td>5</td>\n",
       "      <td>1</td>\n",
       "    </tr>\n",
       "    <tr>\n",
       "      <th>2</th>\n",
       "      <td>3</td>\n",
       "      <td>Indranagar Pub Watchers</td>\n",
       "      <td>Sarjapur Water Tankers</td>\n",
       "      <td>Sarjapur</td>\n",
       "      <td>3</td>\n",
       "      <td>01-03-2012</td>\n",
       "      <td>20:30:00</td>\n",
       "      <td>11</td>\n",
       "      <td>0.23</td>\n",
       "      <td>2</td>\n",
       "      <td>...</td>\n",
       "      <td>1</td>\n",
       "      <td>18</td>\n",
       "      <td>1</td>\n",
       "      <td>300.00</td>\n",
       "      <td>3</td>\n",
       "      <td>3</td>\n",
       "      <td>0</td>\n",
       "      <td>1</td>\n",
       "      <td>10</td>\n",
       "      <td>0</td>\n",
       "    </tr>\n",
       "    <tr>\n",
       "      <th>3</th>\n",
       "      <td>4</td>\n",
       "      <td>Bellandur Froth Fighters</td>\n",
       "      <td>Koramangala Traffic Jammers</td>\n",
       "      <td>Koramangala</td>\n",
       "      <td>4</td>\n",
       "      <td>01-04-2012</td>\n",
       "      <td>16:00:00</td>\n",
       "      <td>6</td>\n",
       "      <td>0.61</td>\n",
       "      <td>0</td>\n",
       "      <td>...</td>\n",
       "      <td>0</td>\n",
       "      <td>5</td>\n",
       "      <td>4</td>\n",
       "      <td>100.00</td>\n",
       "      <td>4</td>\n",
       "      <td>2</td>\n",
       "      <td>3</td>\n",
       "      <td>2</td>\n",
       "      <td>16</td>\n",
       "      <td>0</td>\n",
       "    </tr>\n",
       "    <tr>\n",
       "      <th>4</th>\n",
       "      <td>5</td>\n",
       "      <td>Marathalli Chokers</td>\n",
       "      <td>Whitefield Water Loggers</td>\n",
       "      <td>Marathalli</td>\n",
       "      <td>5</td>\n",
       "      <td>01-05-2012</td>\n",
       "      <td>20:00:00</td>\n",
       "      <td>6</td>\n",
       "      <td>0.56</td>\n",
       "      <td>3</td>\n",
       "      <td>...</td>\n",
       "      <td>3</td>\n",
       "      <td>15</td>\n",
       "      <td>6</td>\n",
       "      <td>205.26</td>\n",
       "      <td>4</td>\n",
       "      <td>2</td>\n",
       "      <td>4</td>\n",
       "      <td>1</td>\n",
       "      <td>5</td>\n",
       "      <td>0</td>\n",
       "    </tr>\n",
       "  </tbody>\n",
       "</table>\n",
       "<p>5 rows × 30 columns</p>\n",
       "</div>"
      ],
      "text/plain": [
       "   Game ID                        Team 1                       Team 2  \\\n",
       "0        1   Koramangala Traffic Jammers    Whitefield Water Loggers    \n",
       "1        2  Electronic City Power Savers        Silkboard Slow Movers   \n",
       "2        3       Indranagar Pub Watchers       Sarjapur Water Tankers   \n",
       "3        4      Bellandur Froth Fighters  Koramangala Traffic Jammers   \n",
       "4        5           Marathalli Chokers     Whitefield Water Loggers    \n",
       "\n",
       "          City  DayOfWeek  DateOfGame TimeOfGame  AvgWindSpeed  AvgHumidity  \\\n",
       "0   Whitefield          1  01-01-2012   20:00:00             6         0.49   \n",
       "1    Silkboard          2  01-02-2012   17:00:00             7         0.44   \n",
       "2     Sarjapur          3  01-03-2012   20:30:00            11         0.23   \n",
       "3  Koramangala          4  01-04-2012   16:00:00             6         0.61   \n",
       "4   Marathalli          5  01-05-2012   20:00:00             6         0.56   \n",
       "\n",
       "   Inn 1 Team 1 NOP R>25,SR>125  ...  Inn 2 Team 2 NOP R<25, SR>125  \\\n",
       "0                             1  ...                              0   \n",
       "1                             3  ...                              2   \n",
       "2                             2  ...                              1   \n",
       "3                             0  ...                              0   \n",
       "4                             3  ...                              3   \n",
       "\n",
       "   Inn 2 Team 2 Total 4s  Inn 2 Team 2 Total 6s  \\\n",
       "0                      3                      3   \n",
       "1                     18                      9   \n",
       "2                     18                      1   \n",
       "3                      5                      4   \n",
       "4                     15                      6   \n",
       "\n",
       "   Inn 2 Team 2 Max Strike Rate_ALLBatsmen  Inn 2 Team 1 NoP fast bowlers  \\\n",
       "0                                   120.00                              5   \n",
       "1                                   215.15                              4   \n",
       "2                                   300.00                              3   \n",
       "3                                   100.00                              4   \n",
       "4                                   205.26                              4   \n",
       "\n",
       "   Inn 2 Team 1 NoP Spinners  Inn 2 Team 1 wickets taken_catches_runout  \\\n",
       "0                          0                                          6   \n",
       "1                          1                                          4   \n",
       "2                          3                                          0   \n",
       "3                          2                                          3   \n",
       "4                          2                                          4   \n",
       "\n",
       "   Inn2 Team 1 wickets taken_ bowled _lbw_caught by keeper_stumping  \\\n",
       "0                                                  4                  \n",
       "1                                                  0                  \n",
       "2                                                  1                  \n",
       "3                                                  2                  \n",
       "4                                                  1                  \n",
       "\n",
       "   Inn 2 Team 1 Extras conceded in_wides_No Balls  Winner (team 1=1, team 2=0)  \n",
       "0                                              11                            1  \n",
       "1                                               5                            1  \n",
       "2                                              10                            0  \n",
       "3                                              16                            0  \n",
       "4                                               5                            0  \n",
       "\n",
       "[5 rows x 30 columns]"
      ]
     },
     "execution_count": 3,
     "metadata": {},
     "output_type": "execute_result"
    }
   ],
   "source": [
    "rw_train.head()"
   ]
  },
  {
   "cell_type": "code",
   "execution_count": 4,
   "metadata": {},
   "outputs": [
    {
     "name": "stdout",
     "output_type": "stream",
     "text": [
      "<class 'pandas.core.frame.DataFrame'>\n",
      "RangeIndex: 252 entries, 0 to 251\n",
      "Data columns (total 30 columns):\n",
      "Game ID                                                             252 non-null int64\n",
      "Team 1                                                              252 non-null object\n",
      "Team 2                                                              252 non-null object\n",
      "City                                                                252 non-null object\n",
      "DayOfWeek                                                           252 non-null int64\n",
      "DateOfGame                                                          252 non-null object\n",
      "TimeOfGame                                                          252 non-null object\n",
      "AvgWindSpeed                                                        252 non-null int64\n",
      "AvgHumidity                                                         252 non-null float64\n",
      "Inn 1 Team 1 NOP R>25,SR>125                                        252 non-null int64\n",
      "Inn 1 Team 1 NOP R<25, SR>125                                       252 non-null int64\n",
      "Inn 1 Team 1 Total 4s                                               252 non-null int64\n",
      "Inn 1 Team 1 Total 6s                                               252 non-null int64\n",
      "Inn 1 Team 1 Max Strike Rate_ALLBatsmen                             252 non-null float64\n",
      "Inn 1 Team 2 NoP fast bowlers                                       252 non-null int64\n",
      "Inn 1 Team 2 NoP Spinners                                           252 non-null int64\n",
      "Inn 1 Team 2 wickets taken_catches_runout                           252 non-null int64\n",
      "Inn1 Team 2 wickets taken_ bowled _lbw_caught by keeper_stumping    252 non-null int64\n",
      "Inn 1 Team 2 Extras conceded in_wides_No Balls                      252 non-null int64\n",
      "Inn 2 Team 2 NOP R>25,SR>125                                        252 non-null int64\n",
      "Inn 2 Team 2 NOP R<25, SR>125                                       252 non-null int64\n",
      "Inn 2 Team 2 Total 4s                                               252 non-null int64\n",
      "Inn 2 Team 2 Total 6s                                               252 non-null int64\n",
      "Inn 2 Team 2 Max Strike Rate_ALLBatsmen                             252 non-null float64\n",
      "Inn 2 Team 1 NoP fast bowlers                                       252 non-null int64\n",
      "Inn 2 Team 1 NoP Spinners                                           252 non-null int64\n",
      "Inn 2 Team 1 wickets taken_catches_runout                           252 non-null int64\n",
      "Inn2 Team 1 wickets taken_ bowled _lbw_caught by keeper_stumping    252 non-null int64\n",
      "Inn 2 Team 1 Extras conceded in_wides_No Balls                      252 non-null int64\n",
      "Winner (team 1=1, team 2=0)                                         252 non-null int64\n",
      "dtypes: float64(3), int64(22), object(5)\n",
      "memory usage: 59.1+ KB\n"
     ]
    }
   ],
   "source": [
    "rw_train.info()"
   ]
  },
  {
   "cell_type": "code",
   "execution_count": 5,
   "metadata": {},
   "outputs": [
    {
     "name": "stdout",
     "output_type": "stream",
     "text": [
      "<class 'pandas.core.frame.DataFrame'>\n",
      "RangeIndex: 76 entries, 0 to 75\n",
      "Data columns (total 30 columns):\n",
      "Game ID                                                             76 non-null int64\n",
      "Team 1                                                              76 non-null object\n",
      "Team 2                                                              76 non-null object\n",
      "CityOfGame                                                          76 non-null object\n",
      "Day                                                                 76 non-null int64\n",
      "DateOfGame                                                          76 non-null object\n",
      "TimeOfGame                                                          76 non-null object\n",
      "AvgWindSpeed                                                        76 non-null int64\n",
      "AvgHumidity                                                         76 non-null float64\n",
      "Inn 1 Team 1 NOP R>25,SR>125                                        76 non-null int64\n",
      "Inn 1 Team 1 NOP R<25, SR>125                                       76 non-null int64\n",
      "Inn 1 Team 1 Total 4s                                               76 non-null int64\n",
      "Inn 1 Team 1 Total 6s                                               76 non-null int64\n",
      "Inn 1 Team 1 Max Strike Rate_ALLBatsmen                             76 non-null float64\n",
      "Inn 1 Team 2 NoP fast bowlers                                       76 non-null int64\n",
      "Inn 1 Team 2 NoP Spinners                                           76 non-null int64\n",
      "Inn 1 Team 2 wickets taken_catches_runout                           76 non-null int64\n",
      "Inn1 Team 2 wickets taken_ bowled _lbw_caught by keeper_stumping    76 non-null int64\n",
      "Inn 1 Team 2 Extras conceded in_wides_No Balls                      76 non-null int64\n",
      "Inn 2 Team 2 NOP R>25,SR>125                                        76 non-null int64\n",
      "Inn 2 Team 2 NOP R<25, SR>125                                       76 non-null int64\n",
      "Inn 2 Team 2 Total 4s                                               76 non-null int64\n",
      "Inn 2 Team 2 Total 6s                                               76 non-null int64\n",
      "Inn 2 Team 2 Max Strike Rate_ALLBatsmen                             76 non-null float64\n",
      "Inn 2 Team 1 NoP fast bowlers                                       76 non-null int64\n",
      "Inn 2 Team 1 NoP Spinners                                           76 non-null int64\n",
      "Inn 2 Team 1 wickets taken_catches_runout                           76 non-null int64\n",
      "Inn2 Team 1 wickets taken_ bowled _lbw_caught by keeper_stumping    76 non-null int64\n",
      "Inn 2 Team 1 Extras conceded in_wides_No Balls                      76 non-null int64\n",
      "Winner (team 1=1, team 2=0)                                         76 non-null int64\n",
      "dtypes: float64(3), int64(22), object(5)\n",
      "memory usage: 17.9+ KB\n"
     ]
    }
   ],
   "source": [
    "rw_test.info()"
   ]
  },
  {
   "cell_type": "code",
   "execution_count": 6,
   "metadata": {},
   "outputs": [
    {
     "data": {
      "text/plain": [
       "['City', 'DayOfWeek']"
      ]
     },
     "execution_count": 6,
     "metadata": {},
     "output_type": "execute_result"
    }
   ],
   "source": [
    "# columns which are missing in test set\n",
    "miss_cols = [x for x in rw_train.columns if x not in rw_test.columns]\n",
    "miss_cols"
   ]
  },
  {
   "cell_type": "code",
   "execution_count": 7,
   "metadata": {},
   "outputs": [],
   "source": [
    "# Changing the name of the columns\n",
    "rw_test['DayOfWeek'] = rw_test['Day']\n",
    "rw_test['City']      = rw_test['CityOfGame']\n",
    "rw_test = rw_test.drop(['Day', 'CityOfGame'], axis =1)"
   ]
  },
  {
   "cell_type": "code",
   "execution_count": 8,
   "metadata": {},
   "outputs": [],
   "source": [
    "test = rw_test.copy()\n",
    "train = rw_train.copy()"
   ]
  },
  {
   "cell_type": "code",
   "execution_count": 9,
   "metadata": {},
   "outputs": [
    {
     "data": {
      "text/plain": [
       "[]"
      ]
     },
     "execution_count": 9,
     "metadata": {},
     "output_type": "execute_result"
    }
   ],
   "source": [
    "# again checking the missing columns\n",
    "miss_cols2 = [x for x in rw_train.columns if x not in test.columns]\n",
    "miss_cols2"
   ]
  },
  {
   "cell_type": "code",
   "execution_count": 10,
   "metadata": {
    "collapsed": true
   },
   "outputs": [
    {
     "data": {
      "text/plain": [
       "Game ID                                                             252\n",
       "DateOfGame                                                          252\n",
       "Inn 2 Team 2 Max Strike Rate_ALLBatsmen                             144\n",
       "Inn 1 Team 1 Max Strike Rate_ALLBatsmen                             121\n",
       "AvgHumidity                                                          52\n",
       "Inn 2 Team 2 Total 4s                                                24\n",
       "Inn 1 Team 1 Total 4s                                                23\n",
       "Inn 1 Team 1 Total 6s                                                18\n",
       "Inn 2 Team 1 Extras conceded in_wides_No Balls                       17\n",
       "Inn 1 Team 2 Extras conceded in_wides_No Balls                       17\n",
       "AvgWindSpeed                                                         16\n",
       "Inn 2 Team 2 Total 6s                                                15\n",
       "TimeOfGame                                                           11\n",
       "Inn 1 Team 2 wickets taken_catches_runout                            10\n",
       "Team 2                                                               10\n",
       "Team 1                                                               10\n",
       "Inn 2 Team 1 wickets taken_catches_runout                            10\n",
       "Inn1 Team 2 wickets taken_ bowled _lbw_caught by keeper_stumping      9\n",
       "Inn2 Team 1 wickets taken_ bowled _lbw_caught by keeper_stumping      9\n",
       "City                                                                  8\n",
       "DayOfWeek                                                             7\n",
       "Inn 1 Team 2 NoP Spinners                                             7\n",
       "Inn 1 Team 1 NOP R<25, SR>125                                         7\n",
       "Inn 1 Team 2 NoP fast bowlers                                         6\n",
       "Inn 2 Team 2 NOP R<25, SR>125                                         6\n",
       "Inn 2 Team 1 NoP fast bowlers                                         6\n",
       "Inn 2 Team 1 NoP Spinners                                             6\n",
       "Inn 1 Team 1 NOP R>25,SR>125                                          5\n",
       "Inn 2 Team 2 NOP R>25,SR>125                                          4\n",
       "Winner (team 1=1, team 2=0)                                           2\n",
       "dtype: int64"
      ]
     },
     "execution_count": 10,
     "metadata": {},
     "output_type": "execute_result"
    }
   ],
   "source": [
    "nuniq  = train.nunique().sort_values(ascending = False)\n",
    "nuniq"
   ]
  },
  {
   "cell_type": "code",
   "execution_count": 11,
   "metadata": {},
   "outputs": [
    {
     "data": {
      "text/plain": [
       "['Team 1', 'Team 2', 'City', 'DateOfGame', 'TimeOfGame']"
      ]
     },
     "execution_count": 11,
     "metadata": {},
     "output_type": "execute_result"
    }
   ],
   "source": [
    "# Getting categorical columns\n",
    "cate_cols = [ x for x in train.columns if train[x].dtype == 'object']\n",
    "cate_cols"
   ]
  },
  {
   "cell_type": "code",
   "execution_count": 12,
   "metadata": {},
   "outputs": [
    {
     "data": {
      "text/plain": [
       "['Team 1', 'Team 2', 'DateOfGame', 'TimeOfGame', 'City']"
      ]
     },
     "execution_count": 12,
     "metadata": {},
     "output_type": "execute_result"
    }
   ],
   "source": [
    "# Getting categorical columns\n",
    "cate_cols = [ x for x in test.columns if test[x].dtype == 'object']\n",
    "cate_cols"
   ]
  },
  {
   "cell_type": "code",
   "execution_count": 13,
   "metadata": {},
   "outputs": [
    {
     "data": {
      "text/plain": [
       "array(['Koramangala Traffic Jammers', 'Electronic City Power Savers',\n",
       "       'Indranagar Pub Watchers', 'Bellandur Froth Fighters',\n",
       "       'Marathalli Chokers ', 'Silkboard Slow Movers',\n",
       "       'Whitefield Water Loggers ', 'Sarjapur Water Tankers',\n",
       "       'Airport Flyers', 'Forum Fans'], dtype=object)"
      ]
     },
     "execution_count": 13,
     "metadata": {},
     "output_type": "execute_result"
    }
   ],
   "source": [
    "train['Team 1'].unique()"
   ]
  },
  {
   "cell_type": "code",
   "execution_count": 14,
   "metadata": {},
   "outputs": [
    {
     "data": {
      "text/plain": [
       "array(['Whitefield Water Loggers ', 'Silkboard Slow Movers',\n",
       "       'Sarjapur Water Tankers', 'Koramangala Traffic Jammers',\n",
       "       'Indranagar Pub Watchers', 'Marathalli Chokers ',\n",
       "       'Electronic City Power Savers', 'Bellandur Froth Fighters',\n",
       "       'Forum Fans', 'Airport Flyers'], dtype=object)"
      ]
     },
     "execution_count": 14,
     "metadata": {},
     "output_type": "execute_result"
    }
   ],
   "source": [
    "train['Team 2'].unique()"
   ]
  },
  {
   "cell_type": "code",
   "execution_count": 15,
   "metadata": {},
   "outputs": [],
   "source": [
    "# Creating a dicktionary to map the name of teams\n",
    "team_map = {'Koramangala Traffic Jammers' : 'KTJ', 'Electronic City Power Savers': 'ECP',\n",
    "            'Indranagar Pub Watchers' : 'IPW',\n",
    "            'Bellandur Froth Fighters' : 'BFF', 'Marathalli Chokers ' : 'MC', 'Silkboard Slow Movers' :'SSM',\n",
    "       'Whitefield Water Loggers ' : 'WWL', 'Sarjapur Water Tankers':'SWT', 'Airport Flyers':'AF', 'Forum Fans': 'FF'}"
   ]
  },
  {
   "cell_type": "code",
   "execution_count": 16,
   "metadata": {},
   "outputs": [],
   "source": [
    "train['Team 1'] = train['Team 1'].map(team_map)  # applying the map dicktionary\n",
    "train['Team 2'] = train['Team 2'].map(team_map)  # applying the map dicktionary\n",
    "\n",
    "test['Team 1'] = test['Team 1'].map(team_map)  # applying the map dicktionary\n",
    "test['Team 2'] = test['Team 2'].map(team_map)  # applying the map dicktionary"
   ]
  },
  {
   "cell_type": "code",
   "execution_count": 17,
   "metadata": {},
   "outputs": [
    {
     "data": {
      "text/plain": [
       "array(['Whitefield', 'Silkboard', 'Sarjapur', 'Koramangala', 'Marathalli',\n",
       "       'Indranagar', 'Bellandur', 'Electronic City'], dtype=object)"
      ]
     },
     "execution_count": 17,
     "metadata": {},
     "output_type": "execute_result"
    }
   ],
   "source": [
    "train['City'].unique() # for cities no need to map"
   ]
  },
  {
   "cell_type": "code",
   "execution_count": 18,
   "metadata": {},
   "outputs": [],
   "source": [
    "# changing the time of variable to datetime\n",
    "train['DateOfGame'] = pd.to_datetime(train['DateOfGame'], format='%m-%d-%Y') \n",
    "test['DateOfGame'] = pd.to_datetime(test['DateOfGame'], format='%m-%d-%Y')"
   ]
  },
  {
   "cell_type": "code",
   "execution_count": 19,
   "metadata": {},
   "outputs": [],
   "source": [
    "train['TimeOfGame'] = pd.to_datetime(train['TimeOfGame'], format= '%H:%M:%S')\n",
    "test['TimeOfGame'] = pd.to_datetime(test['TimeOfGame'], format= '%H:%M:%S')"
   ]
  },
  {
   "cell_type": "code",
   "execution_count": 20,
   "metadata": {},
   "outputs": [
    {
     "data": {
      "image/png": "[encoded data removed]",
      "text/plain": [
       "<matplotlib.figure.Figure at 0x83131caf28>"
      ]
     },
     "metadata": {
      "needs_background": "light"
     },
     "output_type": "display_data"
    }
   ],
   "source": [
    "# checking the distribution of target column to asses the imbalanced data\n",
    "train.groupby('Winner (team 1=1, team 2=0)')['Winner (team 1=1, team 2=0)'].count().plot.bar();"
   ]
  },
  {
   "cell_type": "code",
   "execution_count": 21,
   "metadata": {},
   "outputs": [
    {
     "data": {
      "text/plain": [
       "Winner (team 1=1, team 2=0)                                         1.000000\n",
       "Inn 2 Team 1 wickets taken_catches_runout                           0.708980\n",
       "Inn2 Team 1 wickets taken_ bowled _lbw_caught by keeper_stumping    0.541472\n",
       "Inn 1 Team 1 Total 6s                                               0.406786\n",
       "Inn 1 Team 1 NOP R>25,SR>125                                        0.406192\n",
       "Inn 1 Team 1 Total 4s                                               0.319904\n",
       "Inn 2 Team 2 NOP R<25, SR>125                                       0.294260\n",
       "Inn 1 Team 1 Max Strike Rate_ALLBatsmen                             0.221178\n",
       "Inn 1 Team 1 NOP R<25, SR>125                                       0.148474\n",
       "Inn 1 Team 2 NoP fast bowlers                                       0.082600\n",
       "Inn 1 Team 2 NoP Spinners                                           0.076123\n",
       "Inn 2 Team 1 NoP fast bowlers                                       0.048978\n",
       "Game ID                                                             0.044227\n",
       "Inn 1 Team 2 Extras conceded in_wides_No Balls                      0.014831\n",
       "AvgWindSpeed                                                        0.010575\n",
       "Inn 2 Team 1 NoP Spinners                                           0.005758\n",
       "AvgHumidity                                                        -0.011989\n",
       "Inn 2 Team 2 Max Strike Rate_ALLBatsmen                            -0.029174\n",
       "Inn 2 Team 2 Total 6s                                              -0.039858\n",
       "Inn 2 Team 2 NOP R>25,SR>125                                       -0.058788\n",
       "DayOfWeek                                                          -0.073335\n",
       "Inn 1 Team 2 wickets taken_catches_runout                          -0.095715\n",
       "Inn 2 Team 1 Extras conceded in_wides_No Balls                     -0.109827\n",
       "Inn 2 Team 2 Total 4s                                              -0.152001\n",
       "Inn1 Team 2 wickets taken_ bowled _lbw_caught by keeper_stumping   -0.255814\n",
       "Name: Winner (team 1=1, team 2=0), dtype: float64"
      ]
     },
     "execution_count": 21,
     "metadata": {},
     "output_type": "execute_result"
    }
   ],
   "source": [
    "corrs = train.corr()  # Getting correlation array WRT to target column\n",
    "corrs['Winner (team 1=1, team 2=0)'].sort_values(ascending=False)"
   ]
  },
  {
   "cell_type": "code",
   "execution_count": 22,
   "metadata": {},
   "outputs": [],
   "source": [
    "dropped_cols = ['Game ID', 'DateOfGame', 'TimeOfGame'] # dropping the irrelevant columns"
   ]
  },
  {
   "cell_type": "code",
   "execution_count": 23,
   "metadata": {},
   "outputs": [
    {
     "name": "stdout",
     "output_type": "stream",
     "text": [
      "Train shape: (252, 27) Test shape:  (76, 27)\n"
     ]
    }
   ],
   "source": [
    "train = train.drop(dropped_cols, axis=1)\n",
    "test  = test.drop(dropped_cols, axis=1)\n",
    "contri_cols = train.columns\n",
    "print(\"Train shape:\", train.shape, \"Test shape: \", test.shape)"
   ]
  },
  {
   "cell_type": "code",
   "execution_count": null,
   "metadata": {},
   "outputs": [],
   "source": [
    "corr2 = train.corr()\n",
    "corr2['Winner (team 1=1, team 2=0)'].sort_values(ascending=False)"
   ]
  },
  {
   "cell_type": "code",
   "execution_count": 24,
   "metadata": {},
   "outputs": [
    {
     "name": "stdout",
     "output_type": "stream",
     "text": [
      "Train shape: (252, 52) Test shape:  (76, 49)\n"
     ]
    }
   ],
   "source": [
    "#Dealing with categorical columns\n",
    "cate_cols  = [ x for x in test.columns if test[x].dtype == 'object']\n",
    "\n",
    "# creating the dummy columns to handel categorical values\n",
    "dummy_df = pd.get_dummies(train[cate_cols])\n",
    "train = pd.concat([train, dummy_df], axis=1)\n",
    "train = train.drop(cate_cols, axis=1)\n",
    "\n",
    "#  same as for test dataset\n",
    "dummyTest_df = pd.get_dummies(test[cate_cols])\n",
    "test = pd.concat([test, dummyTest_df], axis =1)\n",
    "test = test.drop(cate_cols, axis=1)\n",
    "\n",
    "print(\"Train shape:\", train.shape, \"Test shape: \", test.shape)"
   ]
  },
  {
   "cell_type": "code",
   "execution_count": 25,
   "metadata": {},
   "outputs": [
    {
     "data": {
      "text/plain": [
       "['Team 1', 'Team 2', 'City']"
      ]
     },
     "execution_count": 25,
     "metadata": {},
     "output_type": "execute_result"
    }
   ],
   "source": [
    "cate_cols"
   ]
  },
  {
   "cell_type": "code",
   "execution_count": 26,
   "metadata": {},
   "outputs": [
    {
     "data": {
      "text/plain": [
       "['Team 1_AF', 'Team 1_FF', 'Team 2_AF', 'Team 2_FF']"
      ]
     },
     "execution_count": 26,
     "metadata": {},
     "output_type": "execute_result"
    }
   ],
   "source": [
    "miss_cols3 = [x for x in train.columns if x not in test.columns]\n",
    "miss_cols3"
   ]
  },
  {
   "cell_type": "code",
   "execution_count": 27,
   "metadata": {},
   "outputs": [
    {
     "data": {
      "text/plain": [
       "['City_HSR']"
      ]
     },
     "execution_count": 27,
     "metadata": {},
     "output_type": "execute_result"
    }
   ],
   "source": [
    "miss_cols4 = [x for x in test.columns if x not in train.columns]\n",
    "miss_cols4"
   ]
  },
  {
   "cell_type": "code",
   "execution_count": 28,
   "metadata": {},
   "outputs": [
    {
     "data": {
      "text/plain": [
       "['Airport Flyers',\n",
       " 'Airport Flyers',\n",
       " 'Forum Fans',\n",
       " 'Forum Fans',\n",
       " 'Airport Flyers',\n",
       " 'Airport Flyers',\n",
       " 'Forum Fans',\n",
       " 'Forum Fans',\n",
       " 'Airport Flyers',\n",
       " 'Airport Flyers',\n",
       " 'Airport Flyers',\n",
       " 'Forum Fans',\n",
       " 'Forum Fans']"
      ]
     },
     "execution_count": 28,
     "metadata": {},
     "output_type": "execute_result"
    }
   ],
   "source": [
    "miss_team = [x for x in rw_train['Team 1'].values if x not in rw_test['Team 1'].values]\n",
    "miss_team"
   ]
  },
  {
   "cell_type": "code",
   "execution_count": 31,
   "metadata": {},
   "outputs": [
    {
     "name": "stdout",
     "output_type": "stream",
     "text": [
      "Train shape: (252, 48) Test shape:  (76, 48)\n"
     ]
    }
   ],
   "source": [
    "train2 = train.drop(miss_cols3, axis=1)\n",
    "test2  = test.drop(miss_cols4, axis=1)\n",
    "print(\"Train shape:\", train2.shape, \"Test shape: \", test2.shape)"
   ]
  },
  {
   "cell_type": "code",
   "execution_count": null,
   "metadata": {},
   "outputs": [],
   "source": [
    "train.head()"
   ]
  },
  {
   "cell_type": "code",
   "execution_count": 32,
   "metadata": {},
   "outputs": [],
   "source": [
    "# Extra imports necessary for the code\n",
    "\n",
    "from sklearn.base import BaseEstimator, TransformerMixin\n",
    "from sklearn.preprocessing import Imputer\n",
    "\n",
    "from statsmodels.stats.outliers_influence import variance_inflation_factor"
   ]
  },
  {
   "cell_type": "code",
   "execution_count": 33,
   "metadata": {},
   "outputs": [],
   "source": [
    "class ReduceVIF(BaseEstimator, TransformerMixin):\n",
    "    def __init__(self, thresh=5.0, impute=True, impute_strategy='median'):\n",
    "        self.thresh = thresh\n",
    "        \n",
    "\n",
    "        if impute:\n",
    "            self.imputer = Imputer(strategy=impute_strategy)\n",
    "\n",
    "    def fit(self, X, y=None):\n",
    "        print('ReduceVIF fit')\n",
    "        if hasattr(self, 'imputer'):\n",
    "            self.imputer.fit(X)\n",
    "        return self\n",
    "\n",
    "    def transform(self, X, y=None):\n",
    "        print('ReduceVIF transform')\n",
    "        columns = X.columns.tolist()\n",
    "        if hasattr(self, 'imputer'):\n",
    "            X = pd.DataFrame(self.imputer.transform(X), columns=columns)\n",
    "        return ReduceVIF.calculate_vif(X, self.thresh)\n",
    "\n",
    "    @staticmethod\n",
    "    def calculate_vif(X, thresh=4.0):\n",
    "        dropped=True\n",
    "        while dropped:\n",
    "            variables = X.columns\n",
    "            dropped = False\n",
    "            vif = [variance_inflation_factor(X[variables].values, X.columns.get_loc(var)) for var in X.columns]\n",
    "            \n",
    "            max_vif = max(vif)\n",
    "            if max_vif > thresh:\n",
    "                maxloc = vif.index(max_vif)\n",
    "                print(f'Dropping {X.columns[maxloc]} with vif={max_vif}')\n",
    "                X = X.drop([X.columns.tolist()[maxloc]], axis=1)\n",
    "                dropped=True\n",
    "        return X"
   ]
  },
  {
   "cell_type": "code",
   "execution_count": 34,
   "metadata": {},
   "outputs": [
    {
     "data": {
      "text/plain": [
       "(252, 47)"
      ]
     },
     "execution_count": 34,
     "metadata": {},
     "output_type": "execute_result"
    }
   ],
   "source": [
    "# defining X and Y for the process\n",
    "\n",
    "X = train2.drop(['Winner (team 1=1, team 2=0)'], axis =1)\n",
    "Y = train2['Winner (team 1=1, team 2=0)']\n",
    "\n",
    "X.shape"
   ]
  },
  {
   "cell_type": "code",
   "execution_count": 35,
   "metadata": {
    "collapsed": true
   },
   "outputs": [
    {
     "name": "stderr",
     "output_type": "stream",
     "text": [
      "C:\\Users\\amar\\Anaconda3\\lib\\site-packages\\sklearn\\utils\\deprecation.py:58: DeprecationWarning: Class Imputer is deprecated; Imputer was deprecated in version 0.20 and will be removed in 0.22. Import impute.SimpleImputer from sklearn instead.\n",
      "  warnings.warn(msg, category=DeprecationWarning)\n"
     ]
    },
    {
     "name": "stdout",
     "output_type": "stream",
     "text": [
      "ReduceVIF fit\n",
      "ReduceVIF transform\n",
      "Dropping City_Marathalli with vif=38.70539771217243\n",
      "Dropping Inn 1 Team 2 NoP fast bowlers with vif=45.39886545746083\n",
      "Dropping Inn 2 Team 1 NoP fast bowlers with vif=31.552326601962577\n",
      "Dropping Inn 1 Team 1 Total 4s with vif=27.64209954659538\n",
      "Dropping Inn 2 Team 2 Max Strike Rate_ALLBatsmen with vif=24.02738249268167\n",
      "Dropping AvgHumidity with vif=20.249135773231004\n",
      "Dropping Inn 2 Team 2 Total 4s with vif=17.984985548216525\n",
      "Dropping Inn 1 Team 1 Max Strike Rate_ALLBatsmen with vif=14.52091576362382\n",
      "Dropping AvgWindSpeed with vif=12.592833748408744\n",
      "Dropping Inn 1 Team 2 NoP Spinners with vif=9.347069842049372\n",
      "Dropping Inn 2 Team 2 Total 6s with vif=8.715425588913616\n",
      "Dropping Inn 2 Team 1 NoP Spinners with vif=7.776232529126963\n",
      "Dropping Inn 1 Team 2 wickets taken_catches_runout with vif=7.021193469719947\n",
      "Dropping Inn 1 Team 1 Total 6s with vif=6.897195062048182\n",
      "Dropping Inn 1 Team 1 NOP R>25,SR>125 with vif=5.438723661450816\n",
      "Dropping DayOfWeek with vif=5.115574693758348\n"
     ]
    },
    {
     "data": {
      "text/html": [
       "<div>\n",
       "<style scoped>\n",
       "    .dataframe tbody tr th:only-of-type {\n",
       "        vertical-align: middle;\n",
       "    }\n",
       "\n",
       "    .dataframe tbody tr th {\n",
       "        vertical-align: top;\n",
       "    }\n",
       "\n",
       "    .dataframe thead th {\n",
       "        text-align: right;\n",
       "    }\n",
       "</style>\n",
       "<table border=\"1\" class=\"dataframe\">\n",
       "  <thead>\n",
       "    <tr style=\"text-align: right;\">\n",
       "      <th></th>\n",
       "      <th>Inn 1 Team 1 NOP R&lt;25, SR&gt;125</th>\n",
       "      <th>Inn1 Team 2 wickets taken_ bowled _lbw_caught by keeper_stumping</th>\n",
       "      <th>Inn 1 Team 2 Extras conceded in_wides_No Balls</th>\n",
       "      <th>Inn 2 Team 2 NOP R&gt;25,SR&gt;125</th>\n",
       "      <th>Inn 2 Team 2 NOP R&lt;25, SR&gt;125</th>\n",
       "      <th>Inn 2 Team 1 wickets taken_catches_runout</th>\n",
       "      <th>Inn2 Team 1 wickets taken_ bowled _lbw_caught by keeper_stumping</th>\n",
       "      <th>Inn 2 Team 1 Extras conceded in_wides_No Balls</th>\n",
       "      <th>Team 1_BFF</th>\n",
       "      <th>Team 1_ECP</th>\n",
       "      <th>...</th>\n",
       "      <th>Team 2_SSM</th>\n",
       "      <th>Team 2_SWT</th>\n",
       "      <th>Team 2_WWL</th>\n",
       "      <th>City_Bellandur</th>\n",
       "      <th>City_Electronic City</th>\n",
       "      <th>City_Indranagar</th>\n",
       "      <th>City_Koramangala</th>\n",
       "      <th>City_Sarjapur</th>\n",
       "      <th>City_Silkboard</th>\n",
       "      <th>City_Whitefield</th>\n",
       "    </tr>\n",
       "  </thead>\n",
       "  <tbody>\n",
       "    <tr>\n",
       "      <th>0</th>\n",
       "      <td>1.0</td>\n",
       "      <td>0.0</td>\n",
       "      <td>9.0</td>\n",
       "      <td>0.0</td>\n",
       "      <td>0.0</td>\n",
       "      <td>6.0</td>\n",
       "      <td>4.0</td>\n",
       "      <td>11.0</td>\n",
       "      <td>0.0</td>\n",
       "      <td>0.0</td>\n",
       "      <td>...</td>\n",
       "      <td>0.0</td>\n",
       "      <td>0.0</td>\n",
       "      <td>1.0</td>\n",
       "      <td>0.0</td>\n",
       "      <td>0.0</td>\n",
       "      <td>0.0</td>\n",
       "      <td>0.0</td>\n",
       "      <td>0.0</td>\n",
       "      <td>0.0</td>\n",
       "      <td>1.0</td>\n",
       "    </tr>\n",
       "    <tr>\n",
       "      <th>1</th>\n",
       "      <td>2.0</td>\n",
       "      <td>4.0</td>\n",
       "      <td>4.0</td>\n",
       "      <td>2.0</td>\n",
       "      <td>2.0</td>\n",
       "      <td>4.0</td>\n",
       "      <td>0.0</td>\n",
       "      <td>5.0</td>\n",
       "      <td>0.0</td>\n",
       "      <td>1.0</td>\n",
       "      <td>...</td>\n",
       "      <td>1.0</td>\n",
       "      <td>0.0</td>\n",
       "      <td>0.0</td>\n",
       "      <td>0.0</td>\n",
       "      <td>0.0</td>\n",
       "      <td>0.0</td>\n",
       "      <td>0.0</td>\n",
       "      <td>0.0</td>\n",
       "      <td>1.0</td>\n",
       "      <td>0.0</td>\n",
       "    </tr>\n",
       "    <tr>\n",
       "      <th>2</th>\n",
       "      <td>2.0</td>\n",
       "      <td>4.0</td>\n",
       "      <td>3.0</td>\n",
       "      <td>2.0</td>\n",
       "      <td>1.0</td>\n",
       "      <td>0.0</td>\n",
       "      <td>1.0</td>\n",
       "      <td>10.0</td>\n",
       "      <td>0.0</td>\n",
       "      <td>0.0</td>\n",
       "      <td>...</td>\n",
       "      <td>0.0</td>\n",
       "      <td>1.0</td>\n",
       "      <td>0.0</td>\n",
       "      <td>0.0</td>\n",
       "      <td>0.0</td>\n",
       "      <td>0.0</td>\n",
       "      <td>0.0</td>\n",
       "      <td>1.0</td>\n",
       "      <td>0.0</td>\n",
       "      <td>0.0</td>\n",
       "    </tr>\n",
       "    <tr>\n",
       "      <th>3</th>\n",
       "      <td>2.0</td>\n",
       "      <td>3.0</td>\n",
       "      <td>6.0</td>\n",
       "      <td>0.0</td>\n",
       "      <td>0.0</td>\n",
       "      <td>3.0</td>\n",
       "      <td>2.0</td>\n",
       "      <td>16.0</td>\n",
       "      <td>1.0</td>\n",
       "      <td>0.0</td>\n",
       "      <td>...</td>\n",
       "      <td>0.0</td>\n",
       "      <td>0.0</td>\n",
       "      <td>0.0</td>\n",
       "      <td>0.0</td>\n",
       "      <td>0.0</td>\n",
       "      <td>0.0</td>\n",
       "      <td>1.0</td>\n",
       "      <td>0.0</td>\n",
       "      <td>0.0</td>\n",
       "      <td>0.0</td>\n",
       "    </tr>\n",
       "    <tr>\n",
       "      <th>4</th>\n",
       "      <td>1.0</td>\n",
       "      <td>2.0</td>\n",
       "      <td>3.0</td>\n",
       "      <td>1.0</td>\n",
       "      <td>3.0</td>\n",
       "      <td>4.0</td>\n",
       "      <td>1.0</td>\n",
       "      <td>5.0</td>\n",
       "      <td>0.0</td>\n",
       "      <td>0.0</td>\n",
       "      <td>...</td>\n",
       "      <td>0.0</td>\n",
       "      <td>0.0</td>\n",
       "      <td>1.0</td>\n",
       "      <td>0.0</td>\n",
       "      <td>0.0</td>\n",
       "      <td>0.0</td>\n",
       "      <td>0.0</td>\n",
       "      <td>0.0</td>\n",
       "      <td>0.0</td>\n",
       "      <td>0.0</td>\n",
       "    </tr>\n",
       "  </tbody>\n",
       "</table>\n",
       "<p>5 rows × 31 columns</p>\n",
       "</div>"
      ],
      "text/plain": [
       "   Inn 1 Team 1 NOP R<25, SR>125  \\\n",
       "0                            1.0   \n",
       "1                            2.0   \n",
       "2                            2.0   \n",
       "3                            2.0   \n",
       "4                            1.0   \n",
       "\n",
       "   Inn1 Team 2 wickets taken_ bowled _lbw_caught by keeper_stumping  \\\n",
       "0                                                0.0                  \n",
       "1                                                4.0                  \n",
       "2                                                4.0                  \n",
       "3                                                3.0                  \n",
       "4                                                2.0                  \n",
       "\n",
       "   Inn 1 Team 2 Extras conceded in_wides_No Balls  \\\n",
       "0                                             9.0   \n",
       "1                                             4.0   \n",
       "2                                             3.0   \n",
       "3                                             6.0   \n",
       "4                                             3.0   \n",
       "\n",
       "   Inn 2 Team 2 NOP R>25,SR>125  Inn 2 Team 2 NOP R<25, SR>125  \\\n",
       "0                           0.0                            0.0   \n",
       "1                           2.0                            2.0   \n",
       "2                           2.0                            1.0   \n",
       "3                           0.0                            0.0   \n",
       "4                           1.0                            3.0   \n",
       "\n",
       "   Inn 2 Team 1 wickets taken_catches_runout  \\\n",
       "0                                        6.0   \n",
       "1                                        4.0   \n",
       "2                                        0.0   \n",
       "3                                        3.0   \n",
       "4                                        4.0   \n",
       "\n",
       "   Inn2 Team 1 wickets taken_ bowled _lbw_caught by keeper_stumping  \\\n",
       "0                                                4.0                  \n",
       "1                                                0.0                  \n",
       "2                                                1.0                  \n",
       "3                                                2.0                  \n",
       "4                                                1.0                  \n",
       "\n",
       "   Inn 2 Team 1 Extras conceded in_wides_No Balls  Team 1_BFF  Team 1_ECP  \\\n",
       "0                                            11.0         0.0         0.0   \n",
       "1                                             5.0         0.0         1.0   \n",
       "2                                            10.0         0.0         0.0   \n",
       "3                                            16.0         1.0         0.0   \n",
       "4                                             5.0         0.0         0.0   \n",
       "\n",
       "   ...  Team 2_SSM  Team 2_SWT  Team 2_WWL  City_Bellandur  \\\n",
       "0  ...         0.0         0.0         1.0             0.0   \n",
       "1  ...         1.0         0.0         0.0             0.0   \n",
       "2  ...         0.0         1.0         0.0             0.0   \n",
       "3  ...         0.0         0.0         0.0             0.0   \n",
       "4  ...         0.0         0.0         1.0             0.0   \n",
       "\n",
       "   City_Electronic City  City_Indranagar  City_Koramangala  City_Sarjapur  \\\n",
       "0                   0.0              0.0               0.0            0.0   \n",
       "1                   0.0              0.0               0.0            0.0   \n",
       "2                   0.0              0.0               0.0            1.0   \n",
       "3                   0.0              0.0               1.0            0.0   \n",
       "4                   0.0              0.0               0.0            0.0   \n",
       "\n",
       "   City_Silkboard  City_Whitefield  \n",
       "0             0.0              1.0  \n",
       "1             1.0              0.0  \n",
       "2             0.0              0.0  \n",
       "3             0.0              0.0  \n",
       "4             0.0              0.0  \n",
       "\n",
       "[5 rows x 31 columns]"
      ]
     },
     "execution_count": 35,
     "metadata": {},
     "output_type": "execute_result"
    }
   ],
   "source": [
    "# Geting rid of highly correlate columns\n",
    "transformer = ReduceVIF()\n",
    "\n",
    "X = transformer.fit_transform(X, Y)\n",
    "\n",
    "X.head()"
   ]
  },
  {
   "cell_type": "code",
   "execution_count": 36,
   "metadata": {},
   "outputs": [],
   "source": [
    "X_train, X_test, y_train, y_test = train_test_split(X, Y, test_size=0.4, random_state=42,shuffle = True)"
   ]
  },
  {
   "cell_type": "code",
   "execution_count": 37,
   "metadata": {},
   "outputs": [
    {
     "data": {
      "text/plain": [
       "RandomForestClassifier(bootstrap=True, class_weight=None, criterion='gini',\n",
       "            max_depth=None, max_features='auto', max_leaf_nodes=None,\n",
       "            min_impurity_decrease=0.0, min_impurity_split=None,\n",
       "            min_samples_leaf=1, min_samples_split=2,\n",
       "            min_weight_fraction_leaf=0.0, n_estimators=60, n_jobs=None,\n",
       "            oob_score=False, random_state=None, verbose=0,\n",
       "            warm_start=False)"
      ]
     },
     "execution_count": 37,
     "metadata": {},
     "output_type": "execute_result"
    }
   ],
   "source": [
    "cat = RandomForestClassifier(n_estimators=60)\n",
    "cat.fit(X_train,y_train)"
   ]
  },
  {
   "cell_type": "code",
   "execution_count": 38,
   "metadata": {},
   "outputs": [],
   "source": [
    "pred2 = cat.predict(X_test)"
   ]
  },
  {
   "cell_type": "code",
   "execution_count": 39,
   "metadata": {},
   "outputs": [
    {
     "name": "stdout",
     "output_type": "stream",
     "text": [
      "0.8712871287128713\n"
     ]
    }
   ],
   "source": [
    "from sklearn.metrics import accuracy_score,confusion_matrix\n",
    "print(accuracy_score(pred2,y_test))"
   ]
  },
  {
   "cell_type": "code",
   "execution_count": 40,
   "metadata": {},
   "outputs": [
    {
     "name": "stdout",
     "output_type": "stream",
     "text": [
      "{'n_estimators': [10, 20, 30, 40, 50, 60, 70, 80, 90, 100], 'max_features': ['auto', 'sqrt'], 'max_depth': [2, 6, 11, 16, 21, 26, 30, 35, 40, 45, 50, None], 'min_samples_split': [2, 5, 10], 'min_samples_leaf': [1, 2, 4], 'bootstrap': [True, False]}\n"
     ]
    }
   ],
   "source": [
    "from sklearn.model_selection import RandomizedSearchCV\n",
    "# Number of trees in random forest\n",
    "n_estimators = [int(x) for x in np.linspace(start = 10, stop = 100, num = 10)]\n",
    "# Number of features to consider at every split\n",
    "max_features = ['auto', 'sqrt']\n",
    "# Maximum number of levels in tree\n",
    "max_depth = [int(x) for x in np.linspace(2, 50, num = 11)]\n",
    "max_depth.append(None)\n",
    "# Minimum number of samples required to split a node\n",
    "min_samples_split = [2, 5, 10]\n",
    "# Minimum number of samples required at each leaf node\n",
    "min_samples_leaf = [1, 2, 4]\n",
    "# Method of selecting samples for training each tree\n",
    "bootstrap = [True, False]\n",
    "# Create the random grid\n",
    "random_grid = {'n_estimators': n_estimators,\n",
    "               'max_features': max_features,\n",
    "               'max_depth': max_depth,\n",
    "               'min_samples_split': min_samples_split,\n",
    "               'min_samples_leaf': min_samples_leaf,\n",
    "               'bootstrap': bootstrap}\n",
    "print(random_grid)"
   ]
  },
  {
   "cell_type": "code",
   "execution_count": 41,
   "metadata": {},
   "outputs": [],
   "source": [
    "rf = RandomForestClassifier()\n",
    "\n",
    "rf_random = RandomizedSearchCV(estimator = rf, param_distributions = random_grid, n_iter = 100,\n",
    "                               cv = 3, verbose=2, random_state=42, n_jobs = -1)\n"
   ]
  },
  {
   "cell_type": "code",
   "execution_count": 42,
   "metadata": {},
   "outputs": [
    {
     "name": "stdout",
     "output_type": "stream",
     "text": [
      "Fitting 3 folds for each of 100 candidates, totalling 300 fits\n"
     ]
    },
    {
     "name": "stderr",
     "output_type": "stream",
     "text": [
      "[Parallel(n_jobs=-1)]: Using backend LokyBackend with 4 concurrent workers.\n",
      "[Parallel(n_jobs=-1)]: Done  33 tasks      | elapsed:    3.5s\n",
      "[Parallel(n_jobs=-1)]: Done 154 tasks      | elapsed:    8.1s\n",
      "[Parallel(n_jobs=-1)]: Done 300 out of 300 | elapsed:   13.9s finished\n",
      "C:\\Users\\amar\\Anaconda3\\lib\\site-packages\\sklearn\\model_selection\\_search.py:841: DeprecationWarning: The default of the `iid` parameter will change from True to False in version 0.22 and will be removed in 0.24. This will change numeric results when test-set sizes are unequal.\n",
      "  DeprecationWarning)\n"
     ]
    },
    {
     "data": {
      "text/plain": [
       "RandomizedSearchCV(cv=3, error_score='raise-deprecating',\n",
       "          estimator=RandomForestClassifier(bootstrap=True, class_weight=None, criterion='gini',\n",
       "            max_depth=None, max_features='auto', max_leaf_nodes=None,\n",
       "            min_impurity_decrease=0.0, min_impurity_split=None,\n",
       "            min_samples_leaf=1, min_samples_split=2,\n",
       "            min_weight_fraction_leaf=0.0, n_estimators='warn', n_jobs=None,\n",
       "            oob_score=False, random_state=None, verbose=0,\n",
       "            warm_start=False),\n",
       "          fit_params=None, iid='warn', n_iter=100, n_jobs=-1,\n",
       "          param_distributions={'n_estimators': [10, 20, 30, 40, 50, 60, 70, 80, 90, 100], 'max_features': ['auto', 'sqrt'], 'max_depth': [2, 6, 11, 16, 21, 26, 30, 35, 40, 45, 50, None], 'min_samples_split': [2, 5, 10], 'min_samples_leaf': [1, 2, 4], 'bootstrap': [True, False]},\n",
       "          pre_dispatch='2*n_jobs', random_state=42, refit=True,\n",
       "          return_train_score='warn', scoring=None, verbose=2)"
      ]
     },
     "execution_count": 42,
     "metadata": {},
     "output_type": "execute_result"
    }
   ],
   "source": [
    "rf_random.fit(X_train,y_train)"
   ]
  },
  {
   "cell_type": "code",
   "execution_count": 43,
   "metadata": {},
   "outputs": [
    {
     "name": "stdout",
     "output_type": "stream",
     "text": [
      "0.900990099009901\n"
     ]
    }
   ],
   "source": [
    "best_random = rf_random.best_estimator_\n",
    "preds = best_random.predict(X_test)\n",
    "print(accuracy_score(preds,y_test))"
   ]
  },
  {
   "cell_type": "code",
   "execution_count": 44,
   "metadata": {},
   "outputs": [
    {
     "data": {
      "text/plain": [
       "{'bootstrap': False,\n",
       " 'max_depth': 35,\n",
       " 'max_features': 'sqrt',\n",
       " 'min_samples_leaf': 4,\n",
       " 'min_samples_split': 2,\n",
       " 'n_estimators': 70}"
      ]
     },
     "execution_count": 44,
     "metadata": {},
     "output_type": "execute_result"
    }
   ],
   "source": [
    "rf_random.best_params_"
   ]
  },
  {
   "cell_type": "code",
   "execution_count": 45,
   "metadata": {},
   "outputs": [],
   "source": [
    "# BCS the data observation are very less so we will use the logisticRegression\n",
    "from sklearn.linear_model import LogisticRegression\n"
   ]
  },
  {
   "cell_type": "code",
   "execution_count": 46,
   "metadata": {},
   "outputs": [
    {
     "name": "stderr",
     "output_type": "stream",
     "text": [
      "C:\\Users\\amar\\Anaconda3\\lib\\site-packages\\sklearn\\linear_model\\logistic.py:432: FutureWarning: Default solver will be changed to 'lbfgs' in 0.22. Specify a solver to silence this warning.\n",
      "  FutureWarning)\n"
     ]
    },
    {
     "data": {
      "text/plain": [
       "LogisticRegression(C=1.0, class_weight=None, dual=False, fit_intercept=True,\n",
       "          intercept_scaling=1, max_iter=100, multi_class='warn',\n",
       "          n_jobs=None, penalty='l2', random_state=None, solver='warn',\n",
       "          tol=0.0001, verbose=0, warm_start=False)"
      ]
     },
     "execution_count": 46,
     "metadata": {},
     "output_type": "execute_result"
    }
   ],
   "source": [
    "lr = LogisticRegression()\n",
    "lr.fit(X_train, y_train)"
   ]
  },
  {
   "cell_type": "code",
   "execution_count": 47,
   "metadata": {},
   "outputs": [
    {
     "name": "stdout",
     "output_type": "stream",
     "text": [
      "0.8910891089108911\n"
     ]
    }
   ],
   "source": [
    "pred = lr.predict(X_test)\n",
    "print(accuracy_score(pred,y_test))"
   ]
  },
  {
   "cell_type": "code",
   "execution_count": 48,
   "metadata": {},
   "outputs": [],
   "source": [
    "t_act  = test['Winner (team 1=1, team 2=0)']\n",
    "f_test = test[X.columns]"
   ]
  },
  {
   "cell_type": "code",
   "execution_count": 49,
   "metadata": {},
   "outputs": [
    {
     "name": "stdout",
     "output_type": "stream",
     "text": [
      "0.868421052631579\n"
     ]
    }
   ],
   "source": [
    "t_pred = lr.predict(f_test)\n",
    "print(accuracy_score(t_pred,t_act))"
   ]
  }
 ],
 "metadata": {
  "gist": {
   "data": {
    "description": "SigTuple/IPL Problem.ipynb",
    "public": true
   },
   "id": ""
  },
  "kernelspec": {
   "display_name": "Python 3",
   "language": "python",
   "name": "python3"
  },
  "language_info": {
   "codemirror_mode": {
    "name": "ipython",
    "version": 3
   },
   "file_extension": ".py",
   "mimetype": "text/x-python",
   "name": "python",
   "nbconvert_exporter": "python",
   "pygments_lexer": "ipython3",
   "version": "3.6.4"
  },
  "varInspector": {
   "cols": {
    "lenName": 16,
    "lenType": 16,
    "lenVar": 40
   },
   "kernels_config": {
    "python": {
     "delete_cmd_postfix": "",
     "delete_cmd_prefix": "del ",
     "library": "var_list.py",
     "varRefreshCmd": "print(var_dic_list())"
    },
    "r": {
     "delete_cmd_postfix": ") ",
     "delete_cmd_prefix": "rm(",
     "library": "var_list.r",
     "varRefreshCmd": "cat(var_dic_list()) "
    }
   },
   "types_to_exclude": [
    "module",
    "function",
    "builtin_function_or_method",
    "instance",
    "_Feature"
   ],
   "window_display": false
  }
 },
 "nbformat": 4,
 "nbformat_minor": 2
}
